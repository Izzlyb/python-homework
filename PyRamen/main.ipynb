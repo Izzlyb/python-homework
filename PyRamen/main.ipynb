{
 "cells": [
  {
   "cell_type": "markdown",
   "id": "37c8cdec-285c-4742-84dd-464b9d126e5c",
   "metadata": {
    "tags": []
   },
   "source": [
    "# Main.ipynb for the PyRamen project.\n",
    "\n"
   ]
  },
  {
   "cell_type": "code",
   "execution_count": 2,
   "id": "132b8ee1-d2ca-45dc-97a2-57077b438798",
   "metadata": {},
   "outputs": [
    {
     "name": "stdout",
     "output_type": "stream",
     "text": [
      "hello world\n"
     ]
    }
   ],
   "source": [
    "print(\"hello world\")"
   ]
  },
  {
   "cell_type": "markdown",
   "id": "9a0dc36c-e397-485d-9d39-282c1efd6989",
   "metadata": {},
   "source": [
    "This is a test time in markdown:"
   ]
  }
 ],
 "metadata": {
  "kernelspec": {
   "display_name": "Python 3 (ipykernel)",
   "language": "python",
   "name": "python3"
  },
  "language_info": {
   "codemirror_mode": {
    "name": "ipython",
    "version": 3
   },
   "file_extension": ".py",
   "mimetype": "text/x-python",
   "name": "python",
   "nbconvert_exporter": "python",
   "pygments_lexer": "ipython3",
   "version": "3.9.13"
  }
 },
 "nbformat": 4,
 "nbformat_minor": 5
}
